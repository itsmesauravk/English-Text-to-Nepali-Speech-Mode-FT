{
 "cells": [
  {
   "cell_type": "markdown",
   "id": "b4fb85fa",
   "metadata": {},
   "source": [
    "## 1. Complete English to Nepali Translation"
   ]
  },
  {
   "cell_type": "code",
   "execution_count": 15,
   "id": "ba31ccbf-42f7-4ba4-b9f6-e9932a2ac327",
   "metadata": {},
   "outputs": [],
   "source": [
    "from typing import Optional, List\n",
    "from pydantic import BaseModel, Field, validator\n",
    "from openai import OpenAI\n",
    "import os\n",
    "from enum import Enum\n",
    "from dotenv import load_dotenv\n"
   ]
  },
  {
   "cell_type": "code",
   "execution_count": 17,
   "id": "e76f87af",
   "metadata": {},
   "outputs": [
    {
     "data": {
      "text/plain": [
       "True"
      ]
     },
     "execution_count": 17,
     "metadata": {},
     "output_type": "execute_result"
    }
   ],
   "source": [
    "load_dotenv()"
   ]
  },
  {
   "cell_type": "code",
   "execution_count": 16,
   "id": "4f8ee4fd-67ef-4b9a-acbc-d7cdf04376ce",
   "metadata": {},
   "outputs": [],
   "source": [
    "class LanguageCode(str, Enum):\n",
    "    \"\"\"Supported language codes\"\"\"\n",
    "    ENGLISH = \"en\"\n",
    "    NEPALI = \"ne\""
   ]
  },
  {
   "cell_type": "code",
   "execution_count": 18,
   "id": "e48052ed-9318-4107-9080-874ab1edb90d",
   "metadata": {},
   "outputs": [
    {
     "name": "stderr",
     "output_type": "stream",
     "text": [
      "/tmp/ipykernel_46140/1145558184.py:9: PydanticDeprecatedSince20: Pydantic V1 style `@validator` validators are deprecated. You should migrate to Pydantic V2 style `@field_validator` validators, see the migration guide for more details. Deprecated in Pydantic V2.0 to be removed in V3.0. See Pydantic V2 Migration Guide at https://errors.pydantic.dev/2.8/migration/\n",
      "  @validator('text')\n"
     ]
    }
   ],
   "source": [
    "class TranslationRequest(BaseModel):\n",
    "    \"\"\"Request model for translation\"\"\"\n",
    "    text: str = Field(..., min_length=1, max_length=1000, description=\"Text to translate\")\n",
    "    source_language: LanguageCode = Field(default=LanguageCode.ENGLISH, description=\"Source language\")\n",
    "    target_language: LanguageCode = Field(default=LanguageCode.NEPALI, description=\"Target language\")\n",
    "    context: Optional[str] = Field(None, description=\"Additional context for better translation\")\n",
    "    formal_tone: bool = Field(default=True, description=\"Use formal tone in translation\")\n",
    "    \n",
    "    @validator('text')\n",
    "    def validate_text(cls, v):\n",
    "        if not v.strip():\n",
    "            raise ValueError(\"Text cannot be empty or only whitespace\")\n",
    "        return v.strip()\n",
    "    "
   ]
  },
  {
   "cell_type": "code",
   "execution_count": 19,
   "id": "a0266bb2-7775-45b6-a3a5-3ea631a31168",
   "metadata": {},
   "outputs": [],
   "source": [
    "class TranslationResponse(BaseModel):\n",
    "    \"\"\"Response model for translation\"\"\"\n",
    "    original_text: str\n",
    "    translated_text: str\n",
    "    source_language: LanguageCode\n",
    "    target_language: LanguageCode\n",
    "    confidence: Optional[float] = None\n",
    "    alternative_translations: Optional[List[str]] = None\n",
    "\n"
   ]
  },
  {
   "cell_type": "code",
   "execution_count": 28,
   "id": "1c987155-fa7f-44f9-a4e0-862d754f1ee6",
   "metadata": {},
   "outputs": [],
   "source": [
    "class PromptTemplate:\n",
    "    \"\"\"Template class for translation prompts\"\"\"\n",
    "    \n",
    "    @staticmethod\n",
    "    def get_translation_prompt(\n",
    "        text: str, \n",
    "        source_lang: str, \n",
    "        target_lang: str, \n",
    "        context: Optional[str] = None,\n",
    "        formal_tone: bool = True\n",
    "    ) -> str:\n",
    "        \"\"\"Generate translation prompt with context and tone specification\"\"\"\n",
    "        \n",
    "        tone_instruction = \"formal and respectful\" if formal_tone else \"casual and natural\"\n",
    "        context_section = f\"\\n\\nContext: {context}\" if context else \"\"\n",
    "        \n",
    "        prompt = f\"\"\"You are an expert translator specializing in 'English' to 'Nepali' translation.\n",
    "\n",
    "            Task: Translate the following 'English' text into 'Nepali'.\n",
    "\n",
    "            Requirements:\n",
    "            - Maintain the original meaning and intent\n",
    "            - Use {tone_instruction} tone\n",
    "            - Preserve any cultural nuances\n",
    "            - Keep proper nouns in their original form unless they have established 'Nepali' equivalents\n",
    "            - For emergency or urgent messages, prioritize clarity and immediacy{context_section}\n",
    "\n",
    "            Text to translate: \"{text}\"\n",
    "\n",
    "            Please provide only the 'Nepali' translation without explanations or additional commentary.\"\"\"\n",
    "                    \n",
    "        return prompt"
   ]
  },
  {
   "cell_type": "code",
   "execution_count": 21,
   "id": "60c538eb-6598-4203-be4d-2b4486a0b45c",
   "metadata": {},
   "outputs": [],
   "source": [
    "class Translator:\n",
    "    \"\"\"Translator with Pydantic support and better error handling\"\"\"\n",
    "    \n",
    "    def __init__(self, model: str = \"gpt-4.1-mini\"):\n",
    "        \"\"\"\n",
    "        Initialize the translator\n",
    "        \n",
    "        Args:\n",
    "            model: OpenAI model to use for translation\n",
    "        \"\"\"\n",
    "        self.client = OpenAI()\n",
    "        self.model = model\n",
    "    \n",
    "    def translate(self, request: TranslationRequest) -> TranslationResponse:\n",
    "        \"\"\"\n",
    "        Translate text using the enhanced pipeline\n",
    "        \n",
    "        Args:\n",
    "            request: TranslationRequest object with all translation parameters\n",
    "            \n",
    "        Returns:\n",
    "            TranslationResponse object with translation results\n",
    "        \"\"\"\n",
    "        try:\n",
    "            # Generate prompt using template\n",
    "            prompt = PromptTemplate.get_translation_prompt(\n",
    "                text=request.text,\n",
    "                source_lang=request.source_language.value,\n",
    "                target_lang=request.target_language.value,\n",
    "                context=request.context,\n",
    "                formal_tone=request.formal_tone\n",
    "            )\n",
    "\n",
    "            print(\"=== Generated Prompt ===\")\n",
    "            print(prompt)\n",
    "            \n",
    "            # Make API call\n",
    "            response = self.client.chat.completions.create(\n",
    "                model=self.model,\n",
    "                messages=[\n",
    "                    {\"role\": \"system\", \"content\": \"You are a professional translator.\"},\n",
    "                    {\"role\": \"user\", \"content\": prompt}\n",
    "                ],\n",
    "                temperature=0.1,  # Lower temperature for more consistent translations\n",
    "                max_tokens=1000\n",
    "            )\n",
    "            \n",
    "            translated_text = response.choices[0].message.content.strip()\n",
    "            \n",
    "            return TranslationResponse(\n",
    "                original_text=request.text,\n",
    "                translated_text=translated_text,\n",
    "                source_language=request.source_language,\n",
    "                target_language=request.target_language\n",
    "            )\n",
    "            \n",
    "        except Exception as e:\n",
    "            raise RuntimeError(f\"Translation failed: {str(e)}\")"
   ]
  },
  {
   "cell_type": "code",
   "execution_count": 22,
   "id": "943b732b",
   "metadata": {},
   "outputs": [],
   "source": [
    "translator = Translator()"
   ]
  },
  {
   "cell_type": "code",
   "execution_count": 39,
   "id": "4244edf7",
   "metadata": {},
   "outputs": [
    {
     "name": "stdout",
     "output_type": "stream",
     "text": [
      "=== Translation Request ===\n",
      "text='My finger is cut while i am cutting grass over there. Can you call an ambulance fast?' source_language=<LanguageCode.ENGLISH: 'en'> target_language=<LanguageCode.NEPALI: 'ne'> context='emergency situation' formal_tone=True\n"
     ]
    }
   ],
   "source": [
    "request = TranslationRequest(\n",
    "    text=\"My finger is cut while i am cutting grass over there. Can you call an ambulance fast?\",\n",
    "    context=\"emergency situation\",\n",
    "    formal_tone=True\n",
    ")\n",
    "\n",
    "print(\"=== Translation Request ===\")\n",
    "print(request)"
   ]
  },
  {
   "cell_type": "code",
   "execution_count": 40,
   "id": "5ec01b4e",
   "metadata": {},
   "outputs": [
    {
     "name": "stdout",
     "output_type": "stream",
     "text": [
      "=== Generated Prompt ===\n",
      "You are an expert translator specializing in 'English' to 'Nepali' translation.\n",
      "\n",
      "            Task: Translate the following 'English' text into 'Nepali'.\n",
      "\n",
      "            Requirements:\n",
      "            - Maintain the original meaning and intent\n",
      "            - Use formal and respectful tone\n",
      "            - Preserve any cultural nuances\n",
      "            - Keep proper nouns in their original form unless they have established 'Nepali' equivalents\n",
      "            - For emergency or urgent messages, prioritize clarity and immediacy\n",
      "\n",
      "Context: emergency situation\n",
      "\n",
      "            Text to translate: \"My finger is cut while i am cutting grass over there. Can you call an ambulance fast?\"\n",
      "\n",
      "            Please provide only the 'Nepali' translation without explanations or additional commentary.\n",
      "=== Translation Completed ===\n",
      "\n",
      "म त्यहाँ घाँस काट्दा मेरो औंला काटिएको छ। के तपाईं छिटो एम्बुलेन्स बोलाउन सक्नुहुन्छ?\n",
      "\n"
     ]
    }
   ],
   "source": [
    "response = translator.translate(request)\n",
    "print(\"=== Translation Completed ===\")\n",
    "print(\"\")\n",
    "print(response.translated_text)\n",
    "print(\"\")"
   ]
  }
 ],
 "metadata": {
  "kernelspec": {
   "display_name": "jlab-env",
   "language": "python",
   "name": "python3"
  },
  "language_info": {
   "codemirror_mode": {
    "name": "ipython",
    "version": 3
   },
   "file_extension": ".py",
   "mimetype": "text/x-python",
   "name": "python",
   "nbconvert_exporter": "python",
   "pygments_lexer": "ipython3",
   "version": "3.12.3"
  }
 },
 "nbformat": 4,
 "nbformat_minor": 5
}
